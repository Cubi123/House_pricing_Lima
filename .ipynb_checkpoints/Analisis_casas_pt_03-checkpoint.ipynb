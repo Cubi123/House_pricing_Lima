{
 "cells": [
  {
   "cell_type": "markdown",
   "metadata": {},
   "source": [
    "##### Este notebook tratará acerca del preprocesamiento para la longitud y latitud de las casas. "
   ]
  },
  {
   "cell_type": "code",
   "execution_count": 1,
   "metadata": {},
   "outputs": [],
   "source": [
    "import pandas as pd\n",
    "import numpy as np\n",
    "import matplotlib.pyplot as plt\n",
    "import seaborn as sns\n",
    "import geohash2 as gh\n",
    "\n",
    "import warnings\n",
    "import gc\n",
    "warnings.filterwarnings('ignore') #Para que no me salgan caveats\n",
    "gc.collect() #Como garbage cleaner\n",
    "pd.set_option('display.max_columns',None) #Para ver todas mis columnas..."
   ]
  },
  {
   "cell_type": "code",
   "execution_count": 2,
   "metadata": {},
   "outputs": [],
   "source": [
    "df = pd.read_csv('data_para_preprocessing.csv')"
   ]
  },
  {
   "cell_type": "code",
   "execution_count": 3,
   "metadata": {},
   "outputs": [],
   "source": [
    "df_gh = df[['longitud','latitud']]"
   ]
  },
  {
   "cell_type": "code",
   "execution_count": 4,
   "metadata": {},
   "outputs": [
    {
     "name": "stdout",
     "output_type": "stream",
     "text": [
      "<class 'pandas.core.frame.DataFrame'>\n",
      "RangeIndex: 7663 entries, 0 to 7662\n",
      "Data columns (total 2 columns):\n",
      "longitud    7663 non-null float64\n",
      "latitud     7663 non-null float64\n",
      "dtypes: float64(2)\n",
      "memory usage: 119.8 KB\n"
     ]
    }
   ],
   "source": [
    "df_gh.info()"
   ]
  },
  {
   "cell_type": "code",
   "execution_count": 5,
   "metadata": {},
   "outputs": [
    {
     "data": {
      "text/html": [
       "<div>\n",
       "<style scoped>\n",
       "    .dataframe tbody tr th:only-of-type {\n",
       "        vertical-align: middle;\n",
       "    }\n",
       "\n",
       "    .dataframe tbody tr th {\n",
       "        vertical-align: top;\n",
       "    }\n",
       "\n",
       "    .dataframe thead th {\n",
       "        text-align: right;\n",
       "    }\n",
       "</style>\n",
       "<table border=\"1\" class=\"dataframe\">\n",
       "  <thead>\n",
       "    <tr style=\"text-align: right;\">\n",
       "      <th></th>\n",
       "      <th>longitud</th>\n",
       "      <th>latitud</th>\n",
       "    </tr>\n",
       "  </thead>\n",
       "  <tbody>\n",
       "    <tr>\n",
       "      <th>0</th>\n",
       "      <td>-76.929494</td>\n",
       "      <td>-12.077232</td>\n",
       "    </tr>\n",
       "    <tr>\n",
       "      <th>1</th>\n",
       "      <td>-76.872657</td>\n",
       "      <td>-12.005022</td>\n",
       "    </tr>\n",
       "  </tbody>\n",
       "</table>\n",
       "</div>"
      ],
      "text/plain": [
       "    longitud    latitud\n",
       "0 -76.929494 -12.077232\n",
       "1 -76.872657 -12.005022"
      ]
     },
     "execution_count": 5,
     "metadata": {},
     "output_type": "execute_result"
    }
   ],
   "source": [
    "df_gh.head(2)"
   ]
  },
  {
   "cell_type": "markdown",
   "metadata": {},
   "source": [
    "#### Geohashing"
   ]
  },
  {
   "cell_type": "code",
   "execution_count": 6,
   "metadata": {},
   "outputs": [],
   "source": [
    "df_gh.drop(df_gh[df_gh.longitud.isna()].index, axis=0,inplace=True)"
   ]
  },
  {
   "cell_type": "code",
   "execution_count": 7,
   "metadata": {},
   "outputs": [
    {
     "data": {
      "text/html": [
       "<div>\n",
       "<style scoped>\n",
       "    .dataframe tbody tr th:only-of-type {\n",
       "        vertical-align: middle;\n",
       "    }\n",
       "\n",
       "    .dataframe tbody tr th {\n",
       "        vertical-align: top;\n",
       "    }\n",
       "\n",
       "    .dataframe thead th {\n",
       "        text-align: right;\n",
       "    }\n",
       "</style>\n",
       "<table border=\"1\" class=\"dataframe\">\n",
       "  <thead>\n",
       "    <tr style=\"text-align: right;\">\n",
       "      <th></th>\n",
       "      <th>longitud</th>\n",
       "      <th>latitud</th>\n",
       "      <th>geohash</th>\n",
       "    </tr>\n",
       "  </thead>\n",
       "  <tbody>\n",
       "    <tr>\n",
       "      <th>0</th>\n",
       "      <td>-76.929494</td>\n",
       "      <td>-12.077232</td>\n",
       "      <td>6mc733</td>\n",
       "    </tr>\n",
       "    <tr>\n",
       "      <th>1</th>\n",
       "      <td>-76.872657</td>\n",
       "      <td>-12.005022</td>\n",
       "      <td>6mc7dw</td>\n",
       "    </tr>\n",
       "    <tr>\n",
       "      <th>2</th>\n",
       "      <td>-76.910620</td>\n",
       "      <td>-12.065150</td>\n",
       "      <td>6mc73g</td>\n",
       "    </tr>\n",
       "    <tr>\n",
       "      <th>3</th>\n",
       "      <td>-76.526003</td>\n",
       "      <td>-12.841678</td>\n",
       "      <td>6m9wfw</td>\n",
       "    </tr>\n",
       "    <tr>\n",
       "      <th>4</th>\n",
       "      <td>-76.972217</td>\n",
       "      <td>-12.113779</td>\n",
       "      <td>6mc706</td>\n",
       "    </tr>\n",
       "  </tbody>\n",
       "</table>\n",
       "</div>"
      ],
      "text/plain": [
       "    longitud    latitud geohash\n",
       "0 -76.929494 -12.077232  6mc733\n",
       "1 -76.872657 -12.005022  6mc7dw\n",
       "2 -76.910620 -12.065150  6mc73g\n",
       "3 -76.526003 -12.841678  6m9wfw\n",
       "4 -76.972217 -12.113779  6mc706"
      ]
     },
     "execution_count": 7,
     "metadata": {},
     "output_type": "execute_result"
    }
   ],
   "source": [
    "df_gh['geohash'] = df_gh.apply(lambda x: gh.encode(x.latitud,x.longitud,precision=6), axis = 1)\n",
    "df_gh.head()"
   ]
  },
  {
   "cell_type": "code",
   "execution_count": 8,
   "metadata": {},
   "outputs": [],
   "source": [
    "df['geohash_grado6'] = df_gh.apply(lambda x: gh.encode(x.latitud,x.longitud,precision=6),axis=1)\n",
    "df['geohash_grado5'] = df_gh.apply(lambda x: gh.encode(x.latitud,x.longitud,precision=5),axis=1)\n",
    "df['geohash_grado7'] = df_gh.apply(lambda x: gh.encode(x.latitud,x.longitud,precision=7),axis=1)\n",
    "df['geohash_grado8'] = df_gh.apply(lambda x: gh.encode(x.latitud,x.longitud,precision=8),axis=1)"
   ]
  },
  {
   "cell_type": "markdown",
   "metadata": {},
   "source": []
  },
  {
   "cell_type": "code",
   "execution_count": 9,
   "metadata": {},
   "outputs": [],
   "source": [
    "df.to_csv('data_para_preprocessing_con_gh.csv')"
   ]
  },
  {
   "cell_type": "code",
   "execution_count": null,
   "metadata": {},
   "outputs": [],
   "source": []
  }
 ],
 "metadata": {
  "kernelspec": {
   "display_name": "Python 3",
   "language": "python",
   "name": "python3"
  },
  "language_info": {
   "codemirror_mode": {
    "name": "ipython",
    "version": 3
   },
   "file_extension": ".py",
   "mimetype": "text/x-python",
   "name": "python",
   "nbconvert_exporter": "python",
   "pygments_lexer": "ipython3",
   "version": "3.7.1"
  }
 },
 "nbformat": 4,
 "nbformat_minor": 2
}
