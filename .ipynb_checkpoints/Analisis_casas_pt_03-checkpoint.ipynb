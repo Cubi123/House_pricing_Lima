{
 "cells": [
  {
   "cell_type": "markdown",
   "metadata": {},
   "source": [
    "##### Este notebook tratará acerca del preprocesamiento para la longitud y latitud de las casas. "
   ]
  },
  {
   "cell_type": "code",
   "execution_count": 2,
   "metadata": {},
   "outputs": [],
   "source": [
    "import pandas as pd\n",
    "import numpy as np\n",
    "import matplotlib.pyplot as plt\n",
    "import seaborn as sns\n",
    "import geohash2 as gh\n",
    "\n",
    "import warnings\n",
    "import gc\n",
    "warnings.filterwarnings('ignore') #Para que no me salgan caveats\n",
    "gc.collect() #Como garbage cleaner\n",
    "pd.set_option('display.max_columns',None) #Para ver todas mis columnas..."
   ]
  },
  {
   "cell_type": "code",
   "execution_count": 3,
   "metadata": {},
   "outputs": [],
   "source": [
    "df = pd.read_csv('to_work_with_long_lat.csv')\n",
    "df_gh = df[['longitud','latitud']]\n",
    "dict_replace = {'\"':'',',':'','\\r':'','\\n':''} #Creo un diccionario para reemplazar valores.\n",
    "for k,v in dict_replace.items(): #Iteraré para reemplazar valores\n",
    "    df_gh.longitud = df_gh.longitud.str.replace(k,v)\n",
    "    df_gh.latitud = df_gh.latitud.str.replace(k,v)"
   ]
  },
  {
   "cell_type": "code",
   "execution_count": 4,
   "metadata": {},
   "outputs": [],
   "source": [
    "#Convierto el tipo de datos a números\n",
    "df_gh.longitud = df_gh.longitud.astype('float64')\n",
    "df_gh.latitud = df_gh.latitud.astype('float64')\n",
    "df_gh.latitud = df_gh.latitud * (-1)"
   ]
  },
  {
   "cell_type": "markdown",
   "metadata": {},
   "source": [
    "#### Geohashing"
   ]
  },
  {
   "cell_type": "code",
   "execution_count": 5,
   "metadata": {},
   "outputs": [],
   "source": [
    "df_gh.drop(df_gh[df_gh.longitud.isna()].index, axis=0,inplace=True)"
   ]
  },
  {
   "cell_type": "code",
   "execution_count": 6,
   "metadata": {},
   "outputs": [
    {
     "data": {
      "text/html": [
       "<div>\n",
       "<style scoped>\n",
       "    .dataframe tbody tr th:only-of-type {\n",
       "        vertical-align: middle;\n",
       "    }\n",
       "\n",
       "    .dataframe tbody tr th {\n",
       "        vertical-align: top;\n",
       "    }\n",
       "\n",
       "    .dataframe thead th {\n",
       "        text-align: right;\n",
       "    }\n",
       "</style>\n",
       "<table border=\"1\" class=\"dataframe\">\n",
       "  <thead>\n",
       "    <tr style=\"text-align: right;\">\n",
       "      <th></th>\n",
       "      <th>longitud</th>\n",
       "      <th>latitud</th>\n",
       "      <th>geohash</th>\n",
       "    </tr>\n",
       "  </thead>\n",
       "  <tbody>\n",
       "    <tr>\n",
       "      <th>0</th>\n",
       "      <td>-77.086805</td>\n",
       "      <td>-11.859273</td>\n",
       "      <td>6mchtc</td>\n",
       "    </tr>\n",
       "    <tr>\n",
       "      <th>1</th>\n",
       "      <td>-76.929494</td>\n",
       "      <td>-12.077232</td>\n",
       "      <td>6mc733</td>\n",
       "    </tr>\n",
       "    <tr>\n",
       "      <th>2</th>\n",
       "      <td>-77.072345</td>\n",
       "      <td>-11.988893</td>\n",
       "      <td>6mc5y1</td>\n",
       "    </tr>\n",
       "    <tr>\n",
       "      <th>3</th>\n",
       "      <td>-77.074063</td>\n",
       "      <td>-11.839213</td>\n",
       "      <td>6mchwh</td>\n",
       "    </tr>\n",
       "    <tr>\n",
       "      <th>4</th>\n",
       "      <td>-76.604310</td>\n",
       "      <td>-12.756244</td>\n",
       "      <td>6m9x2v</td>\n",
       "    </tr>\n",
       "  </tbody>\n",
       "</table>\n",
       "</div>"
      ],
      "text/plain": [
       "    longitud    latitud geohash\n",
       "0 -77.086805 -11.859273  6mchtc\n",
       "1 -76.929494 -12.077232  6mc733\n",
       "2 -77.072345 -11.988893  6mc5y1\n",
       "3 -77.074063 -11.839213  6mchwh\n",
       "4 -76.604310 -12.756244  6m9x2v"
      ]
     },
     "execution_count": 6,
     "metadata": {},
     "output_type": "execute_result"
    }
   ],
   "source": [
    "df_gh['geohash'] = df_gh.apply(lambda x: gh.encode(x.latitud,x.longitud,precision=6), axis = 1)\n",
    "df_gh.head()"
   ]
  },
  {
   "cell_type": "code",
   "execution_count": null,
   "metadata": {},
   "outputs": [],
   "source": []
  },
  {
   "cell_type": "markdown",
   "metadata": {},
   "source": []
  },
  {
   "cell_type": "code",
   "execution_count": null,
   "metadata": {},
   "outputs": [],
   "source": []
  }
 ],
 "metadata": {
  "kernelspec": {
   "display_name": "Python 3",
   "language": "python",
   "name": "python3"
  },
  "language_info": {
   "codemirror_mode": {
    "name": "ipython",
    "version": 3
   },
   "file_extension": ".py",
   "mimetype": "text/x-python",
   "name": "python",
   "nbconvert_exporter": "python",
   "pygments_lexer": "ipython3",
   "version": "3.7.1"
  }
 },
 "nbformat": 4,
 "nbformat_minor": 2
}
